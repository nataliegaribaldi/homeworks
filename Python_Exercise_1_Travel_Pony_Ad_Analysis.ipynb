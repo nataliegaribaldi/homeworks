{
  "nbformat": 4,
  "nbformat_minor": 0,
  "metadata": {
    "colab": {
      "name": "Python Exercise 1: Travel Pony Ad Analysis.ipynb",
      "provenance": [],
      "collapsed_sections": []
    },
    "kernelspec": {
      "name": "python3",
      "display_name": "Python 3"
    }
  },
  "cells": [
    {
      "cell_type": "code",
      "metadata": {
        "id": "LuKE7g_9ATCj",
        "colab_type": "code",
        "outputId": "4478dc4c-72c4-46e6-e08f-36699642711e",
        "colab": {
          "base_uri": "https://localhost:8080/",
          "height": 122
        }
      },
      "source": [
        "import pandas as pd\n",
        "import numpy as np\n",
        "import csv\n",
        "import re\n",
        "from google.colab import drive\n",
        "drive.mount('/content/drive')"
      ],
      "execution_count": 0,
      "outputs": [
        {
          "output_type": "stream",
          "text": [
            "Go to this URL in a browser: https://accounts.google.com/o/oauth2/auth?client_id=947318989803-6bn6qk8qdgf4n4g3pfee6491hc0brc4i.apps.googleusercontent.com&redirect_uri=urn%3aietf%3awg%3aoauth%3a2.0%3aoob&response_type=code&scope=email%20https%3a%2f%2fwww.googleapis.com%2fauth%2fdocs.test%20https%3a%2f%2fwww.googleapis.com%2fauth%2fdrive%20https%3a%2f%2fwww.googleapis.com%2fauth%2fdrive.photos.readonly%20https%3a%2f%2fwww.googleapis.com%2fauth%2fpeopleapi.readonly\n",
            "\n",
            "Enter your authorization code:\n",
            "··········\n",
            "Mounted at /content/drive\n"
          ],
          "name": "stdout"
        }
      ]
    },
    {
      "cell_type": "code",
      "metadata": {
        "id": "mzYHc1vrAh54",
        "colab_type": "code",
        "outputId": "a5c41fc1-d3c9-4411-ebf5-3833e1b2bcf9",
        "colab": {
          "base_uri": "https://localhost:8080/",
          "height": 255
        }
      },
      "source": [
        "travelpony = pd.read_csv('drive/My Drive/Colab Notebooks/in class exercises/Travel Pony Facebook.csv')\n",
        "travelpony.head"
      ],
      "execution_count": 0,
      "outputs": [
        {
          "output_type": "execute_result",
          "data": {
            "text/plain": [
              "<bound method NDFrame.head of       Start Date  ... Cost per Page Engagement (USD)\n",
              "0     2013-12-02  ...                       1.219512\n",
              "1     2013-12-01  ...                       1.395349\n",
              "2     2013-11-30  ...                       1.190476\n",
              "3     2013-11-29  ...                       1.167315\n",
              "4     2013-11-22  ...                       2.512857\n",
              "...          ...  ...                            ...\n",
              "3700  2013-06-11  ...                       1.050000\n",
              "3701  2013-06-10  ...                       0.533333\n",
              "3702  2013-06-09  ...                       0.990000\n",
              "3703  2013-06-08  ...                       0.316667\n",
              "3704  2013-06-07  ...                       0.000000\n",
              "\n",
              "[3705 rows x 20 columns]>"
            ]
          },
          "metadata": {
            "tags": []
          },
          "execution_count": 2
        }
      ]
    },
    {
      "cell_type": "code",
      "metadata": {
        "id": "LdDR30grEazs",
        "colab_type": "code",
        "outputId": "4ac24875-d642-49a7-ed82-1de450509b7e",
        "colab": {
          "base_uri": "https://localhost:8080/",
          "height": 357
        }
      },
      "source": [
        "list(travelpony)"
      ],
      "execution_count": 0,
      "outputs": [
        {
          "output_type": "execute_result",
          "data": {
            "text/plain": [
              "['Start Date',\n",
              " 'End Date',\n",
              " 'Account',\n",
              " 'Campaign Name',\n",
              " 'Reach',\n",
              " 'Frequency',\n",
              " 'Impressions',\n",
              " 'Clicks',\n",
              " 'Unique Clicks',\n",
              " 'Amount Spent (USD)',\n",
              " 'Page Likes',\n",
              " 'Page Engagement',\n",
              " 'Post Engagement',\n",
              " 'Post Likes',\n",
              " 'Post Comments',\n",
              " 'Post Shares',\n",
              " 'Photo Views',\n",
              " 'Website Clicks',\n",
              " 'Cost per Page Like (USD)',\n",
              " 'Cost per Page Engagement (USD)']"
            ]
          },
          "metadata": {
            "tags": []
          },
          "execution_count": 3
        }
      ]
    },
    {
      "cell_type": "code",
      "metadata": {
        "id": "azWXhqO9BBek",
        "colab_type": "code",
        "outputId": "908dde24-5fb0-4e95-eb5b-563f062e4908",
        "colab": {
          "base_uri": "https://localhost:8080/",
          "height": 136
        }
      },
      "source": [
        "travelpony['Cost per Impression'] = travelpony['Amount Spent (USD)'] / travelpony['Impressions']\n",
        "travelpony.columns"
      ],
      "execution_count": 0,
      "outputs": [
        {
          "output_type": "execute_result",
          "data": {
            "text/plain": [
              "Index(['Start Date', 'End Date', 'Account', 'Campaign Name', 'Reach',\n",
              "       'Frequency', 'Impressions', 'Clicks', 'Unique Clicks',\n",
              "       'Amount Spent (USD)', 'Page Likes', 'Page Engagement',\n",
              "       'Post Engagement', 'Post Likes', 'Post Comments', 'Post Shares',\n",
              "       'Photo Views', 'Website Clicks', 'Cost per Page Like (USD)',\n",
              "       'Cost per Page Engagement (USD)', 'Cost per Impression'],\n",
              "      dtype='object')"
            ]
          },
          "metadata": {
            "tags": []
          },
          "execution_count": 4
        }
      ]
    },
    {
      "cell_type": "code",
      "metadata": {
        "id": "IeL9rYOrGCZc",
        "colab_type": "code",
        "outputId": "1f6a50a3-1a63-4a2e-d392-df81508b4f23",
        "colab": {
          "base_uri": "https://localhost:8080/",
          "height": 221
        }
      },
      "source": [
        "travelpony['Cost per Impression']"
      ],
      "execution_count": 0,
      "outputs": [
        {
          "output_type": "execute_result",
          "data": {
            "text/plain": [
              "0       0.000466\n",
              "1       0.000652\n",
              "2       0.000448\n",
              "3       0.000452\n",
              "4       0.002464\n",
              "          ...   \n",
              "3700    0.003512\n",
              "3701    0.002936\n",
              "3702    0.008919\n",
              "3703    0.006643\n",
              "3704    0.000439\n",
              "Name: Cost per Impression, Length: 3705, dtype: float64"
            ]
          },
          "metadata": {
            "tags": []
          },
          "execution_count": 5
        }
      ]
    },
    {
      "cell_type": "code",
      "metadata": {
        "id": "BA85o0w9GScn",
        "colab_type": "code",
        "outputId": "cb11266e-0f7e-4a3f-8c9c-0ef2e8763a37",
        "colab": {
          "base_uri": "https://localhost:8080/",
          "height": 136
        }
      },
      "source": [
        "travelpony['Start Date'] = pd.to_datetime(travelpony['Start Date'])\n",
        "travelpony['Day of Week'] = travelpony['Start Date'].dt.day_name()\n",
        "travelpony.columns"
      ],
      "execution_count": 0,
      "outputs": [
        {
          "output_type": "execute_result",
          "data": {
            "text/plain": [
              "Index(['Start Date', 'End Date', 'Account', 'Campaign Name', 'Reach',\n",
              "       'Frequency', 'Impressions', 'Clicks', 'Unique Clicks',\n",
              "       'Amount Spent (USD)', 'Page Likes', 'Page Engagement',\n",
              "       'Post Engagement', 'Post Likes', 'Post Comments', 'Post Shares',\n",
              "       'Photo Views', 'Website Clicks', 'Cost per Page Like (USD)',\n",
              "       'Cost per Page Engagement (USD)', 'Cost per Impression', 'Day of Week'],\n",
              "      dtype='object')"
            ]
          },
          "metadata": {
            "tags": []
          },
          "execution_count": 6
        }
      ]
    },
    {
      "cell_type": "code",
      "metadata": {
        "id": "69XSKqKDHzZe",
        "colab_type": "code",
        "outputId": "3b022cdb-3d88-4aa5-90bf-8dd14f02a797",
        "colab": {
          "base_uri": "https://localhost:8080/",
          "height": 266
        }
      },
      "source": [
        "travelpony.groupby('Day of Week', as_index=False).agg({\"Cost per Impression\": \"sum\"})\n"
      ],
      "execution_count": 0,
      "outputs": [
        {
          "output_type": "execute_result",
          "data": {
            "text/html": [
              "<div>\n",
              "<style scoped>\n",
              "    .dataframe tbody tr th:only-of-type {\n",
              "        vertical-align: middle;\n",
              "    }\n",
              "\n",
              "    .dataframe tbody tr th {\n",
              "        vertical-align: top;\n",
              "    }\n",
              "\n",
              "    .dataframe thead th {\n",
              "        text-align: right;\n",
              "    }\n",
              "</style>\n",
              "<table border=\"1\" class=\"dataframe\">\n",
              "  <thead>\n",
              "    <tr style=\"text-align: right;\">\n",
              "      <th></th>\n",
              "      <th>Day of Week</th>\n",
              "      <th>Cost per Impression</th>\n",
              "    </tr>\n",
              "  </thead>\n",
              "  <tbody>\n",
              "    <tr>\n",
              "      <th>0</th>\n",
              "      <td>Friday</td>\n",
              "      <td>2.056639</td>\n",
              "    </tr>\n",
              "    <tr>\n",
              "      <th>1</th>\n",
              "      <td>Monday</td>\n",
              "      <td>1.713976</td>\n",
              "    </tr>\n",
              "    <tr>\n",
              "      <th>2</th>\n",
              "      <td>Saturday</td>\n",
              "      <td>1.311720</td>\n",
              "    </tr>\n",
              "    <tr>\n",
              "      <th>3</th>\n",
              "      <td>Sunday</td>\n",
              "      <td>1.755447</td>\n",
              "    </tr>\n",
              "    <tr>\n",
              "      <th>4</th>\n",
              "      <td>Thursday</td>\n",
              "      <td>1.950631</td>\n",
              "    </tr>\n",
              "    <tr>\n",
              "      <th>5</th>\n",
              "      <td>Tuesday</td>\n",
              "      <td>1.440979</td>\n",
              "    </tr>\n",
              "    <tr>\n",
              "      <th>6</th>\n",
              "      <td>Wednesday</td>\n",
              "      <td>1.761665</td>\n",
              "    </tr>\n",
              "  </tbody>\n",
              "</table>\n",
              "</div>"
            ],
            "text/plain": [
              "  Day of Week  Cost per Impression\n",
              "0      Friday             2.056639\n",
              "1      Monday             1.713976\n",
              "2    Saturday             1.311720\n",
              "3      Sunday             1.755447\n",
              "4    Thursday             1.950631\n",
              "5     Tuesday             1.440979\n",
              "6   Wednesday             1.761665"
            ]
          },
          "metadata": {
            "tags": []
          },
          "execution_count": 7
        }
      ]
    },
    {
      "cell_type": "markdown",
      "metadata": {
        "id": "jMGmvmkBISpO",
        "colab_type": "text"
      },
      "source": [
        "**Number 1:**\n",
        "\n",
        "According to the above summary, the day of week that works **best** (aka the *cheapest* to generate impressions) is **Saturday**.\n",
        "\n",
        "The day of week that works **worst** (aka the *most expensive* to generate impressions) is **Friday**.\n"
      ]
    },
    {
      "cell_type": "code",
      "metadata": {
        "id": "wPEAusv1JYd9",
        "colab_type": "code",
        "outputId": "77e11156-97dc-44b2-ed9b-80b0dca7223d",
        "colab": {
          "base_uri": "https://localhost:8080/",
          "height": 68
        }
      },
      "source": [
        "print(travelpony[['Amount Spent (USD)','Reach']].corr())"
      ],
      "execution_count": 0,
      "outputs": [
        {
          "output_type": "stream",
          "text": [
            "                    Amount Spent (USD)     Reach\n",
            "Amount Spent (USD)            1.000000  0.703124\n",
            "Reach                         0.703124  1.000000\n"
          ],
          "name": "stdout"
        }
      ]
    },
    {
      "cell_type": "code",
      "metadata": {
        "id": "8_B93WnLKj0C",
        "colab_type": "code",
        "outputId": "a39f5114-55d9-4b0e-eb48-cae6ef5a1082",
        "colab": {
          "base_uri": "https://localhost:8080/",
          "height": 68
        }
      },
      "source": [
        "print(travelpony[['Amount Spent (USD)','Frequency']].corr())"
      ],
      "execution_count": 0,
      "outputs": [
        {
          "output_type": "stream",
          "text": [
            "                    Amount Spent (USD)  Frequency\n",
            "Amount Spent (USD)            1.000000   0.130201\n",
            "Frequency                     0.130201   1.000000\n"
          ],
          "name": "stdout"
        }
      ]
    },
    {
      "cell_type": "code",
      "metadata": {
        "id": "ilbIYS5nKnhm",
        "colab_type": "code",
        "outputId": "3b1a4e44-256b-4308-a76e-298dc4228aed",
        "colab": {
          "base_uri": "https://localhost:8080/",
          "height": 68
        }
      },
      "source": [
        "print(travelpony[['Amount Spent (USD)','Unique Clicks']].corr())"
      ],
      "execution_count": 0,
      "outputs": [
        {
          "output_type": "stream",
          "text": [
            "                    Amount Spent (USD)  Unique Clicks\n",
            "Amount Spent (USD)            1.000000       0.882993\n",
            "Unique Clicks                 0.882993       1.000000\n"
          ],
          "name": "stdout"
        }
      ]
    },
    {
      "cell_type": "code",
      "metadata": {
        "id": "Ylax2XBOKr54",
        "colab_type": "code",
        "outputId": "0969f56c-7c49-40b6-f986-f0b823cf89b5",
        "colab": {
          "base_uri": "https://localhost:8080/",
          "height": 68
        }
      },
      "source": [
        "print(travelpony[['Amount Spent (USD)','Page Likes']].corr())"
      ],
      "execution_count": 0,
      "outputs": [
        {
          "output_type": "stream",
          "text": [
            "                    Amount Spent (USD)  Page Likes\n",
            "Amount Spent (USD)            1.000000    0.757612\n",
            "Page Likes                    0.757612    1.000000\n"
          ],
          "name": "stdout"
        }
      ]
    },
    {
      "cell_type": "markdown",
      "metadata": {
        "id": "MXY97rBLK0GM",
        "colab_type": "text"
      },
      "source": [
        "**Number 2**: \n",
        "\n",
        "The correlation that is the strongest is the Amount Spent and the Unique Clicks with 0.883. This means that the more they spend, the more unique clicks they will get on a post.\n"
      ]
    },
    {
      "cell_type": "code",
      "metadata": {
        "id": "jT8Dm_MMLtbM",
        "colab_type": "code",
        "colab": {}
      },
      "source": [
        "import statsmodels.api as sm"
      ],
      "execution_count": 0,
      "outputs": []
    },
    {
      "cell_type": "code",
      "metadata": {
        "id": "6j7NWBZ9MIKk",
        "colab_type": "code",
        "outputId": "dd77606c-41f5-4e4b-c557-e1c1d681d259",
        "colab": {
          "base_uri": "https://localhost:8080/",
          "height": 478
        }
      },
      "source": [
        "independent_variable = travelpony[[\"Reach\",'Frequency']]\n",
        "dependent_variable = travelpony[\"Amount Spent (USD)\"]\n",
        "\n",
        "model = sm.OLS(dependent_variable, independent_variable).fit()\n",
        "predictions = model.predict(independent_variable)\n",
        "\n",
        "model.summary()"
      ],
      "execution_count": 0,
      "outputs": [
        {
          "output_type": "execute_result",
          "data": {
            "text/html": [
              "<table class=\"simpletable\">\n",
              "<caption>OLS Regression Results</caption>\n",
              "<tr>\n",
              "  <th>Dep. Variable:</th>    <td>Amount Spent (USD)</td> <th>  R-squared (uncentered):</th>      <td>   0.541</td> \n",
              "</tr>\n",
              "<tr>\n",
              "  <th>Model:</th>                    <td>OLS</td>        <th>  Adj. R-squared (uncentered):</th> <td>   0.541</td> \n",
              "</tr>\n",
              "<tr>\n",
              "  <th>Method:</th>              <td>Least Squares</td>   <th>  F-statistic:       </th>          <td>   2187.</td> \n",
              "</tr>\n",
              "<tr>\n",
              "  <th>Date:</th>              <td>Wed, 13 Nov 2019</td>  <th>  Prob (F-statistic):</th>           <td>  0.00</td>  \n",
              "</tr>\n",
              "<tr>\n",
              "  <th>Time:</th>                  <td>00:07:44</td>      <th>  Log-Likelihood:    </th>          <td> -16058.</td> \n",
              "</tr>\n",
              "<tr>\n",
              "  <th>No. Observations:</th>       <td>  3705</td>       <th>  AIC:               </th>          <td>3.212e+04</td>\n",
              "</tr>\n",
              "<tr>\n",
              "  <th>Df Residuals:</th>           <td>  3703</td>       <th>  BIC:               </th>          <td>3.213e+04</td>\n",
              "</tr>\n",
              "<tr>\n",
              "  <th>Df Model:</th>               <td>     2</td>       <th>                     </th>              <td> </td>    \n",
              "</tr>\n",
              "<tr>\n",
              "  <th>Covariance Type:</th>       <td>nonrobust</td>     <th>                     </th>              <td> </td>    \n",
              "</tr>\n",
              "</table>\n",
              "<table class=\"simpletable\">\n",
              "<tr>\n",
              "      <td></td>         <th>coef</th>     <th>std err</th>      <th>t</th>      <th>P>|t|</th>  <th>[0.025</th>    <th>0.975]</th>  \n",
              "</tr>\n",
              "<tr>\n",
              "  <th>Reach</th>     <td>    0.0019</td> <td> 3.19e-05</td> <td>   58.957</td> <td> 0.000</td> <td>    0.002</td> <td>    0.002</td>\n",
              "</tr>\n",
              "<tr>\n",
              "  <th>Frequency</th> <td>    4.7323</td> <td>    0.305</td> <td>   15.499</td> <td> 0.000</td> <td>    4.134</td> <td>    5.331</td>\n",
              "</tr>\n",
              "</table>\n",
              "<table class=\"simpletable\">\n",
              "<tr>\n",
              "  <th>Omnibus:</th>       <td>2898.063</td> <th>  Durbin-Watson:     </th>  <td>   1.351</td> \n",
              "</tr>\n",
              "<tr>\n",
              "  <th>Prob(Omnibus):</th>  <td> 0.000</td>  <th>  Jarque-Bera (JB):  </th> <td>404599.317</td>\n",
              "</tr>\n",
              "<tr>\n",
              "  <th>Skew:</th>           <td> 2.933</td>  <th>  Prob(JB):          </th>  <td>    0.00</td> \n",
              "</tr>\n",
              "<tr>\n",
              "  <th>Kurtosis:</th>       <td>53.857</td>  <th>  Cond. No.          </th>  <td>9.84e+03</td> \n",
              "</tr>\n",
              "</table><br/><br/>Warnings:<br/>[1] Standard Errors assume that the covariance matrix of the errors is correctly specified.<br/>[2] The condition number is large, 9.84e+03. This might indicate that there are<br/>strong multicollinearity or other numerical problems."
            ],
            "text/plain": [
              "<class 'statsmodels.iolib.summary.Summary'>\n",
              "\"\"\"\n",
              "                                 OLS Regression Results                                \n",
              "=======================================================================================\n",
              "Dep. Variable:     Amount Spent (USD)   R-squared (uncentered):                   0.541\n",
              "Model:                            OLS   Adj. R-squared (uncentered):              0.541\n",
              "Method:                 Least Squares   F-statistic:                              2187.\n",
              "Date:                Wed, 13 Nov 2019   Prob (F-statistic):                        0.00\n",
              "Time:                        00:07:44   Log-Likelihood:                         -16058.\n",
              "No. Observations:                3705   AIC:                                  3.212e+04\n",
              "Df Residuals:                    3703   BIC:                                  3.213e+04\n",
              "Df Model:                           2                                                  \n",
              "Covariance Type:            nonrobust                                                  \n",
              "==============================================================================\n",
              "                 coef    std err          t      P>|t|      [0.025      0.975]\n",
              "------------------------------------------------------------------------------\n",
              "Reach          0.0019   3.19e-05     58.957      0.000       0.002       0.002\n",
              "Frequency      4.7323      0.305     15.499      0.000       4.134       5.331\n",
              "==============================================================================\n",
              "Omnibus:                     2898.063   Durbin-Watson:                   1.351\n",
              "Prob(Omnibus):                  0.000   Jarque-Bera (JB):           404599.317\n",
              "Skew:                           2.933   Prob(JB):                         0.00\n",
              "Kurtosis:                      53.857   Cond. No.                     9.84e+03\n",
              "==============================================================================\n",
              "\n",
              "Warnings:\n",
              "[1] Standard Errors assume that the covariance matrix of the errors is correctly specified.\n",
              "[2] The condition number is large, 9.84e+03. This might indicate that there are\n",
              "strong multicollinearity or other numerical problems.\n",
              "\"\"\""
            ]
          },
          "metadata": {
            "tags": []
          },
          "execution_count": 13
        }
      ]
    },
    {
      "cell_type": "markdown",
      "metadata": {
        "id": "wyyyL_9MOF6s",
        "colab_type": "text"
      },
      "source": [
        "**Number 3:**\n",
        "\n",
        "The variable that most strongly predicts unique clicks is Frequency. As Amount Spent increases by 1, the Reach increases by 0.0019 and the Frequency increases by 4.73. This means the more money spent, the higher the frequency will be. The R-squared is also fairly low, 0.541, meaning that this model explains 54.1% of the variance in the dependent variable (Amount Spent)."
      ]
    },
    {
      "cell_type": "code",
      "metadata": {
        "id": "jMB6tIjRPqWd",
        "colab_type": "code",
        "colab": {}
      },
      "source": [
        ""
      ],
      "execution_count": 0,
      "outputs": []
    }
  ]
}