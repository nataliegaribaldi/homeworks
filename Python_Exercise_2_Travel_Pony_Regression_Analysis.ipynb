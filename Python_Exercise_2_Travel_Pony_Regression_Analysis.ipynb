{
  "nbformat": 4,
  "nbformat_minor": 0,
  "metadata": {
    "colab": {
      "name": "Python Exercise 2: Travel Pony Regression Analysis.ipynb",
      "provenance": []
    },
    "kernelspec": {
      "name": "python3",
      "display_name": "Python 3"
    }
  },
  "cells": [
    {
      "cell_type": "code",
      "metadata": {
        "id": "bPaoFQ0C7ivd",
        "colab_type": "code",
        "outputId": "31f327a3-c0ac-4e3a-b5d7-adf00bc108db",
        "colab": {
          "base_uri": "https://localhost:8080/",
          "height": 34
        }
      },
      "source": [
        "import pandas as pd\n",
        "import numpy as np\n",
        "import seaborn as sns\n",
        "import csv\n",
        "from google.colab import drive\n",
        "drive.mount('/content/drive')"
      ],
      "execution_count": 0,
      "outputs": [
        {
          "output_type": "stream",
          "text": [
            "Drive already mounted at /content/drive; to attempt to forcibly remount, call drive.mount(\"/content/drive\", force_remount=True).\n"
          ],
          "name": "stdout"
        }
      ]
    },
    {
      "cell_type": "code",
      "metadata": {
        "id": "VHkHN5dY76C6",
        "colab_type": "code",
        "outputId": "3d923f5f-afa0-423b-a5da-c8812ccf5913",
        "colab": {
          "base_uri": "https://localhost:8080/",
          "height": 255
        }
      },
      "source": [
        "travelpony = pd.read_csv('drive/My Drive/Colab Notebooks/in class exercises/Travel Pony Facebook.csv')\n",
        "travelpony.head"
      ],
      "execution_count": 0,
      "outputs": [
        {
          "output_type": "execute_result",
          "data": {
            "text/plain": [
              "<bound method NDFrame.head of       Start Date  ... Cost per Page Engagement (USD)\n",
              "0     2013-12-02  ...                       1.219512\n",
              "1     2013-12-01  ...                       1.395349\n",
              "2     2013-11-30  ...                       1.190476\n",
              "3     2013-11-29  ...                       1.167315\n",
              "4     2013-11-22  ...                       2.512857\n",
              "...          ...  ...                            ...\n",
              "3700  2013-06-11  ...                       1.050000\n",
              "3701  2013-06-10  ...                       0.533333\n",
              "3702  2013-06-09  ...                       0.990000\n",
              "3703  2013-06-08  ...                       0.316667\n",
              "3704  2013-06-07  ...                       0.000000\n",
              "\n",
              "[3705 rows x 20 columns]>"
            ]
          },
          "metadata": {
            "tags": []
          },
          "execution_count": 66
        }
      ]
    },
    {
      "cell_type": "code",
      "metadata": {
        "id": "EfoeUApJPrmu",
        "colab_type": "code",
        "colab": {}
      },
      "source": [
        "travelpony_clean = travelpony[(travelpony[['Amount Spent (USD)']] != 0).all(axis=1)]"
      ],
      "execution_count": 0,
      "outputs": []
    },
    {
      "cell_type": "code",
      "metadata": {
        "id": "icAD0lwk8Fjp",
        "colab_type": "code",
        "outputId": "8127403c-8bc8-401d-bf2b-678491b232e9",
        "colab": {
          "base_uri": "https://localhost:8080/",
          "height": 296
        }
      },
      "source": [
        "sns.set_style('darkgrid')\n",
        "sns.distplot(travelpony_clean['Amount Spent (USD)'])"
      ],
      "execution_count": 0,
      "outputs": [
        {
          "output_type": "execute_result",
          "data": {
            "text/plain": [
              "<matplotlib.axes._subplots.AxesSubplot at 0x7ff0150f76d8>"
            ]
          },
          "metadata": {
            "tags": []
          },
          "execution_count": 68
        },
        {
          "output_type": "display_data",
          "data": {
            "image/png": "[encoded data removed]",
            "text/plain": [
              "<Figure size 432x288 with 1 Axes>"
            ]
          },
          "metadata": {
            "tags": []
          }
        }
      ]
    },
    {
      "cell_type": "code",
      "metadata": {
        "id": "Bj9jTLKQO8VG",
        "colab_type": "code",
        "outputId": "750be1d0-bc0c-4f8d-9b5d-c1ec188ef8d3",
        "colab": {
          "base_uri": "https://localhost:8080/",
          "height": 296
        }
      },
      "source": [
        "sns.scatterplot(x='Amount Spent (USD)', y='Reach', data=travelpony)"
      ],
      "execution_count": 0,
      "outputs": [
        {
          "output_type": "execute_result",
          "data": {
            "text/plain": [
              "<matplotlib.axes._subplots.AxesSubplot at 0x7ff014fc7080>"
            ]
          },
          "metadata": {
            "tags": []
          },
          "execution_count": 69
        },
        {
          "output_type": "display_data",
          "data": {
            "image/png": "[encoded data removed]",
            "text/plain": [
              "<Figure size 432x288 with 1 Axes>"
            ]
          },
          "metadata": {
            "tags": []
          }
        }
      ]
    },
    {
      "cell_type": "code",
      "metadata": {
        "id": "weOuRnvnQHIT",
        "colab_type": "code",
        "outputId": "60606372-ab38-44c3-ce68-21fb6124d163",
        "colab": {
          "base_uri": "https://localhost:8080/",
          "height": 296
        }
      },
      "source": [
        "sns.scatterplot(x='Amount Spent (USD)', y='Frequency', data=travelpony)"
      ],
      "execution_count": 0,
      "outputs": [
        {
          "output_type": "execute_result",
          "data": {
            "text/plain": [
              "<matplotlib.axes._subplots.AxesSubplot at 0x7ff014f84ac8>"
            ]
          },
          "metadata": {
            "tags": []
          },
          "execution_count": 70
        },
        {
          "output_type": "display_data",
          "data": {
            "image/png": "[encoded data removed]",
            "text/plain": [
              "<Figure size 432x288 with 1 Axes>"
            ]
          },
          "metadata": {
            "tags": []
          }
        }
      ]
    },
    {
      "cell_type": "code",
      "metadata": {
        "id": "cGC5W_q1QK0E",
        "colab_type": "code",
        "outputId": "f11ce1af-ecb7-4a05-a95c-0ef60854462c",
        "colab": {
          "base_uri": "https://localhost:8080/",
          "height": 299
        }
      },
      "source": [
        "sns.scatterplot(x='Amount Spent (USD)', y='Impressions', data=travelpony)"
      ],
      "execution_count": 0,
      "outputs": [
        {
          "output_type": "execute_result",
          "data": {
            "text/plain": [
              "<matplotlib.axes._subplots.AxesSubplot at 0x7ff014ed8048>"
            ]
          },
          "metadata": {
            "tags": []
          },
          "execution_count": 71
        },
        {
          "output_type": "display_data",
          "data": {
            "image/png": "[encoded data removed]",
            "text/plain": [
              "<Figure size 432x288 with 1 Axes>"
            ]
          },
          "metadata": {
            "tags": []
          }
        }
      ]
    },
    {
      "cell_type": "code",
      "metadata": {
        "id": "XzaRovecQMcZ",
        "colab_type": "code",
        "outputId": "e678aefd-df96-4d09-d4bf-a9630bf5a950",
        "colab": {
          "base_uri": "https://localhost:8080/",
          "height": 296
        }
      },
      "source": [
        "sns.scatterplot(x='Amount Spent (USD)', y='Clicks', data=travelpony)"
      ],
      "execution_count": 0,
      "outputs": [
        {
          "output_type": "execute_result",
          "data": {
            "text/plain": [
              "<matplotlib.axes._subplots.AxesSubplot at 0x7ff014e9c9b0>"
            ]
          },
          "metadata": {
            "tags": []
          },
          "execution_count": 72
        },
        {
          "output_type": "display_data",
          "data": {
            "image/png": "[encoded data removed]",
            "text/plain": [
              "<Figure size 432x288 with 1 Axes>"
            ]
          },
          "metadata": {
            "tags": []
          }
        }
      ]
    },
    {
      "cell_type": "markdown",
      "metadata": {
        "id": "4-M1Z19WQZoY",
        "colab_type": "text"
      },
      "source": [
        "**Do you see a linear relationships? As a result, do you think linear regression will work for this problem?**\n",
        "\n",
        "I see a somewhat linear relationship for these graphs. Especially Reach and Impressions. However, there are a lot of outliers. Since there is a somewhat linear relationship, I do believe a linear regression would work for this problem. \n"
      ]
    },
    {
      "cell_type": "code",
      "metadata": {
        "id": "OWUpWv1bSTLt",
        "colab_type": "code",
        "colab": {}
      },
      "source": [
        "import statsmodels.api as sm"
      ],
      "execution_count": 0,
      "outputs": []
    },
    {
      "cell_type": "code",
      "metadata": {
        "id": "W68eK9P7WXkS",
        "colab_type": "code",
        "colab": {}
      },
      "source": [
        "travelpony['Campaign Name'] = travelpony['Campaign Name'].astype('str')\n",
        "travelpony['Campaign Name'] = travelpony['Campaign Name'].str.replace('[^a-zA-Z0-9:\\s+]', '')\n",
        "travelpony['Campaign Name'] = travelpony['Campaign Name'].str.replace('\\d+', '')"
      ],
      "execution_count": 0,
      "outputs": []
    },
    {
      "cell_type": "code",
      "metadata": {
        "id": "EB96Dqd8WmOZ",
        "colab_type": "code",
        "outputId": "323a9d2e-0cd8-4058-be1c-bca99e5f735e",
        "colab": {
          "base_uri": "https://localhost:8080/",
          "height": 530
        }
      },
      "source": [
        "pd.get_dummies(travelpony['Campaign Name'])\n",
        "travelpony = pd.concat([travelpony, pd.get_dummies(travelpony['Campaign Name'])], axis = 1)\n",
        "travelpony.head()"
      ],
      "execution_count": 0,
      "outputs": [
        {
          "output_type": "execute_result",
          "data": {
            "text/html": [
              "<div>\n",
              "<style scoped>\n",
              "    .dataframe tbody tr th:only-of-type {\n",
              "        vertical-align: middle;\n",
              "    }\n",
              "\n",
              "    .dataframe tbody tr th {\n",
              "        vertical-align: top;\n",
              "    }\n",
              "\n",
              "    .dataframe thead th {\n",
              "        text-align: right;\n",
              "    }\n",
              "</style>\n",
              "<table border=\"1\" class=\"dataframe\">\n",
              "  <thead>\n",
              "    <tr style=\"text-align: right;\">\n",
              "      <th></th>\n",
              "      <th>Start Date</th>\n",
              "      <th>End Date</th>\n",
              "      <th>Account</th>\n",
              "      <th>Campaign Name</th>\n",
              "      <th>Reach</th>\n",
              "      <th>Frequency</th>\n",
              "      <th>Impressions</th>\n",
              "      <th>Clicks</th>\n",
              "      <th>Unique Clicks</th>\n",
              "      <th>Amount Spent (USD)</th>\n",
              "      <th>Page Likes</th>\n",
              "      <th>Page Engagement</th>\n",
              "      <th>Post Engagement</th>\n",
              "      <th>Post Likes</th>\n",
              "      <th>Post Comments</th>\n",
              "      <th>Post Shares</th>\n",
              "      <th>Photo Views</th>\n",
              "      <th>Website Clicks</th>\n",
              "      <th>Cost per Page Like (USD)</th>\n",
              "      <th>Cost per Page Engagement (USD)</th>\n",
              "      <th>Ad</th>\n",
              "      <th>Cyber Weekend</th>\n",
              "      <th>Nanigans</th>\n",
              "      <th>Post: You need to get some real sun and we are here to</th>\n",
              "      <th>SimpleMultiFillCampaign</th>\n",
              "      <th>TravelPony: Conversion Test</th>\n",
              "      <th>TravelPony: General Ads</th>\n",
              "      <th>TravelponyPage LikesUS</th>\n",
              "      <th>http:travelponyClicksUS</th>\n",
              "    </tr>\n",
              "  </thead>\n",
              "  <tbody>\n",
              "    <tr>\n",
              "      <th>0</th>\n",
              "      <td>2013-12-02</td>\n",
              "      <td>2013-12-02</td>\n",
              "      <td>Bob Jackson</td>\n",
              "      <td>Cyber Weekend</td>\n",
              "      <td>278117</td>\n",
              "      <td>2.314303</td>\n",
              "      <td>643647</td>\n",
              "      <td>336</td>\n",
              "      <td>313</td>\n",
              "      <td>300.00</td>\n",
              "      <td>3</td>\n",
              "      <td>246</td>\n",
              "      <td>243</td>\n",
              "      <td>0</td>\n",
              "      <td>0</td>\n",
              "      <td>0</td>\n",
              "      <td>0</td>\n",
              "      <td>243</td>\n",
              "      <td>100.00</td>\n",
              "      <td>1.219512</td>\n",
              "      <td>0</td>\n",
              "      <td>1</td>\n",
              "      <td>0</td>\n",
              "      <td>0</td>\n",
              "      <td>0</td>\n",
              "      <td>0</td>\n",
              "      <td>0</td>\n",
              "      <td>0</td>\n",
              "      <td>0</td>\n",
              "    </tr>\n",
              "    <tr>\n",
              "      <th>1</th>\n",
              "      <td>2013-12-01</td>\n",
              "      <td>2013-12-01</td>\n",
              "      <td>Bob Jackson</td>\n",
              "      <td>Cyber Weekend</td>\n",
              "      <td>221255</td>\n",
              "      <td>2.079090</td>\n",
              "      <td>460009</td>\n",
              "      <td>376</td>\n",
              "      <td>348</td>\n",
              "      <td>300.00</td>\n",
              "      <td>6</td>\n",
              "      <td>215</td>\n",
              "      <td>209</td>\n",
              "      <td>0</td>\n",
              "      <td>0</td>\n",
              "      <td>0</td>\n",
              "      <td>0</td>\n",
              "      <td>209</td>\n",
              "      <td>50.00</td>\n",
              "      <td>1.395349</td>\n",
              "      <td>0</td>\n",
              "      <td>1</td>\n",
              "      <td>0</td>\n",
              "      <td>0</td>\n",
              "      <td>0</td>\n",
              "      <td>0</td>\n",
              "      <td>0</td>\n",
              "      <td>0</td>\n",
              "      <td>0</td>\n",
              "    </tr>\n",
              "    <tr>\n",
              "      <th>2</th>\n",
              "      <td>2013-11-30</td>\n",
              "      <td>2013-11-30</td>\n",
              "      <td>Bob Jackson</td>\n",
              "      <td>Cyber Weekend</td>\n",
              "      <td>267915</td>\n",
              "      <td>2.499069</td>\n",
              "      <td>669538</td>\n",
              "      <td>383</td>\n",
              "      <td>345</td>\n",
              "      <td>300.00</td>\n",
              "      <td>2</td>\n",
              "      <td>252</td>\n",
              "      <td>250</td>\n",
              "      <td>0</td>\n",
              "      <td>0</td>\n",
              "      <td>0</td>\n",
              "      <td>0</td>\n",
              "      <td>250</td>\n",
              "      <td>150.00</td>\n",
              "      <td>1.190476</td>\n",
              "      <td>0</td>\n",
              "      <td>1</td>\n",
              "      <td>0</td>\n",
              "      <td>0</td>\n",
              "      <td>0</td>\n",
              "      <td>0</td>\n",
              "      <td>0</td>\n",
              "      <td>0</td>\n",
              "      <td>0</td>\n",
              "    </tr>\n",
              "    <tr>\n",
              "      <th>3</th>\n",
              "      <td>2013-11-29</td>\n",
              "      <td>2013-11-29</td>\n",
              "      <td>Bob Jackson</td>\n",
              "      <td>Cyber Weekend</td>\n",
              "      <td>280332</td>\n",
              "      <td>2.365406</td>\n",
              "      <td>663099</td>\n",
              "      <td>301</td>\n",
              "      <td>275</td>\n",
              "      <td>300.00</td>\n",
              "      <td>3</td>\n",
              "      <td>257</td>\n",
              "      <td>254</td>\n",
              "      <td>0</td>\n",
              "      <td>0</td>\n",
              "      <td>0</td>\n",
              "      <td>0</td>\n",
              "      <td>254</td>\n",
              "      <td>100.00</td>\n",
              "      <td>1.167315</td>\n",
              "      <td>0</td>\n",
              "      <td>1</td>\n",
              "      <td>0</td>\n",
              "      <td>0</td>\n",
              "      <td>0</td>\n",
              "      <td>0</td>\n",
              "      <td>0</td>\n",
              "      <td>0</td>\n",
              "      <td>0</td>\n",
              "    </tr>\n",
              "    <tr>\n",
              "      <th>4</th>\n",
              "      <td>2013-11-22</td>\n",
              "      <td>2013-11-22</td>\n",
              "      <td>Bob Jackson</td>\n",
              "      <td>TravelPony: General Ads</td>\n",
              "      <td>14269</td>\n",
              "      <td>1.000420</td>\n",
              "      <td>14275</td>\n",
              "      <td>64</td>\n",
              "      <td>61</td>\n",
              "      <td>35.18</td>\n",
              "      <td>2</td>\n",
              "      <td>14</td>\n",
              "      <td>12</td>\n",
              "      <td>0</td>\n",
              "      <td>0</td>\n",
              "      <td>0</td>\n",
              "      <td>0</td>\n",
              "      <td>12</td>\n",
              "      <td>17.59</td>\n",
              "      <td>2.512857</td>\n",
              "      <td>0</td>\n",
              "      <td>0</td>\n",
              "      <td>0</td>\n",
              "      <td>0</td>\n",
              "      <td>0</td>\n",
              "      <td>0</td>\n",
              "      <td>1</td>\n",
              "      <td>0</td>\n",
              "      <td>0</td>\n",
              "    </tr>\n",
              "  </tbody>\n",
              "</table>\n",
              "</div>"
            ],
            "text/plain": [
              "   Start Date    End Date  ... TravelponyPage LikesUS http:travelponyClicksUS\n",
              "0  2013-12-02  2013-12-02  ...                      0                       0\n",
              "1  2013-12-01  2013-12-01  ...                      0                       0\n",
              "2  2013-11-30  2013-11-30  ...                      0                       0\n",
              "3  2013-11-29  2013-11-29  ...                      0                       0\n",
              "4  2013-11-22  2013-11-22  ...                      0                       0\n",
              "\n",
              "[5 rows x 29 columns]"
            ]
          },
          "metadata": {
            "tags": []
          },
          "execution_count": 75
        }
      ]
    },
    {
      "cell_type": "code",
      "metadata": {
        "id": "L_miIEeYa4Cj",
        "colab_type": "code",
        "outputId": "dbf2b406-831e-4664-b1ce-05eadf01e173",
        "colab": {
          "base_uri": "https://localhost:8080/",
          "height": 204
        }
      },
      "source": [
        "travelpony.columns"
      ],
      "execution_count": 0,
      "outputs": [
        {
          "output_type": "execute_result",
          "data": {
            "text/plain": [
              "Index(['Start Date', 'End Date', 'Account', 'Campaign Name', 'Reach',\n",
              "       'Frequency', 'Impressions', 'Clicks', 'Unique Clicks',\n",
              "       'Amount Spent (USD)', 'Page Likes', 'Page Engagement',\n",
              "       'Post Engagement', 'Post Likes', 'Post Comments', 'Post Shares',\n",
              "       'Photo Views', 'Website Clicks', 'Cost per Page Like (USD)',\n",
              "       'Cost per Page Engagement (USD)', 'Ad ', 'Cyber Weekend', 'Nanigans',\n",
              "       'Post: You need to get some real sun and we are here to',\n",
              "       'SimpleMultiFillCampaign', 'TravelPony: Conversion Test',\n",
              "       'TravelPony: General Ads', 'TravelponyPage LikesUS',\n",
              "       'http:travelponyClicksUS'],\n",
              "      dtype='object')"
            ]
          },
          "metadata": {
            "tags": []
          },
          "execution_count": 64
        }
      ]
    },
    {
      "cell_type": "code",
      "metadata": {
        "id": "zxwcTF_NQXAP",
        "colab_type": "code",
        "outputId": "5765215b-4cbf-4a78-febb-844536f36968",
        "colab": {
          "base_uri": "https://localhost:8080/",
          "height": 814
        }
      },
      "source": [
        "dependent = travelpony['Amount Spent (USD)']\n",
        "independent = travelpony[['Ad ', 'Cyber Weekend', 'Nanigans',\n",
        "       'Post: You need to get some real sun and we are here to',\n",
        "       'SimpleMultiFillCampaign', 'Reach','Frequency','Impressions',\n",
        "       'Clicks','Unique Clicks','Page Likes','Page Engagement',\n",
        "       'Post Engagement','Post Likes','Post Comments',\n",
        "       'Post Shares','Photo Views','Website Clicks']]\n",
        "\n",
        "model = sm.OLS(dependent, independent).fit()\n",
        "predictions = model.predict(independent)\n",
        "\n",
        "model.summary()"
      ],
      "execution_count": 0,
      "outputs": [
        {
          "output_type": "execute_result",
          "data": {
            "text/html": [
              "<table class=\"simpletable\">\n",
              "<caption>OLS Regression Results</caption>\n",
              "<tr>\n",
              "  <th>Dep. Variable:</th>    <td>Amount Spent (USD)</td> <th>  R-squared (uncentered):</th>      <td>   0.943</td> \n",
              "</tr>\n",
              "<tr>\n",
              "  <th>Model:</th>                    <td>OLS</td>        <th>  Adj. R-squared (uncentered):</th> <td>   0.943</td> \n",
              "</tr>\n",
              "<tr>\n",
              "  <th>Method:</th>              <td>Least Squares</td>   <th>  F-statistic:       </th>          <td>   3593.</td> \n",
              "</tr>\n",
              "<tr>\n",
              "  <th>Date:</th>              <td>Wed, 20 Nov 2019</td>  <th>  Prob (F-statistic):</th>           <td>  0.00</td>  \n",
              "</tr>\n",
              "<tr>\n",
              "  <th>Time:</th>                  <td>20:11:39</td>      <th>  Log-Likelihood:    </th>          <td> -12193.</td> \n",
              "</tr>\n",
              "<tr>\n",
              "  <th>No. Observations:</th>       <td>  3705</td>       <th>  AIC:               </th>          <td>2.442e+04</td>\n",
              "</tr>\n",
              "<tr>\n",
              "  <th>Df Residuals:</th>           <td>  3688</td>       <th>  BIC:               </th>          <td>2.453e+04</td>\n",
              "</tr>\n",
              "<tr>\n",
              "  <th>Df Model:</th>               <td>    17</td>       <th>                     </th>              <td> </td>    \n",
              "</tr>\n",
              "<tr>\n",
              "  <th>Covariance Type:</th>       <td>nonrobust</td>     <th>                     </th>              <td> </td>    \n",
              "</tr>\n",
              "</table>\n",
              "<table class=\"simpletable\">\n",
              "<tr>\n",
              "                             <td></td>                               <th>coef</th>     <th>std err</th>      <th>t</th>      <th>P>|t|</th>  <th>[0.025</th>    <th>0.975]</th>  \n",
              "</tr>\n",
              "<tr>\n",
              "  <th>Ad </th>                                                    <td>   -2.4991</td> <td>    2.413</td> <td>   -1.036</td> <td> 0.300</td> <td>   -7.229</td> <td>    2.231</td>\n",
              "</tr>\n",
              "<tr>\n",
              "  <th>Cyber Weekend</th>                                          <td> -189.1268</td> <td>   18.698</td> <td>  -10.115</td> <td> 0.000</td> <td> -225.787</td> <td> -152.467</td>\n",
              "</tr>\n",
              "<tr>\n",
              "  <th>Nanigans</th>                                               <td>   -4.1903</td> <td>    0.803</td> <td>   -5.216</td> <td> 0.000</td> <td>   -5.765</td> <td>   -2.615</td>\n",
              "</tr>\n",
              "<tr>\n",
              "  <th>Post: You need to get some real sun and we are here to</th> <td>  -14.2906</td> <td>    5.175</td> <td>   -2.761</td> <td> 0.006</td> <td>  -24.438</td> <td>   -4.144</td>\n",
              "</tr>\n",
              "<tr>\n",
              "  <th>SimpleMultiFillCampaign</th>                                <td>   -2.2926</td> <td>    0.709</td> <td>   -3.235</td> <td> 0.001</td> <td>   -3.682</td> <td>   -0.903</td>\n",
              "</tr>\n",
              "<tr>\n",
              "  <th>Reach</th>                                                  <td>    0.0033</td> <td>    0.000</td> <td>   30.673</td> <td> 0.000</td> <td>    0.003</td> <td>    0.003</td>\n",
              "</tr>\n",
              "<tr>\n",
              "  <th>Frequency</th>                                              <td>    1.8756</td> <td>    0.695</td> <td>    2.698</td> <td> 0.007</td> <td>    0.513</td> <td>    3.239</td>\n",
              "</tr>\n",
              "<tr>\n",
              "  <th>Impressions</th>                                            <td>   -0.0009</td> <td> 5.73e-05</td> <td>  -15.023</td> <td> 0.000</td> <td>   -0.001</td> <td>   -0.001</td>\n",
              "</tr>\n",
              "<tr>\n",
              "  <th>Clicks</th>                                                 <td>   -0.3369</td> <td>    0.078</td> <td>   -4.312</td> <td> 0.000</td> <td>   -0.490</td> <td>   -0.184</td>\n",
              "</tr>\n",
              "<tr>\n",
              "  <th>Unique Clicks</th>                                          <td>    0.4800</td> <td>    0.088</td> <td>    5.436</td> <td> 0.000</td> <td>    0.307</td> <td>    0.653</td>\n",
              "</tr>\n",
              "<tr>\n",
              "  <th>Page Likes</th>                                             <td>   24.4052</td> <td>    6.534</td> <td>    3.735</td> <td> 0.000</td> <td>   11.594</td> <td>   37.216</td>\n",
              "</tr>\n",
              "<tr>\n",
              "  <th>Page Engagement</th>                                        <td>  -21.1280</td> <td>    6.532</td> <td>   -3.235</td> <td> 0.001</td> <td>  -33.934</td> <td>   -8.322</td>\n",
              "</tr>\n",
              "<tr>\n",
              "  <th>Post Engagement</th>                                        <td>   17.9848</td> <td>    5.444</td> <td>    3.304</td> <td> 0.001</td> <td>    7.312</td> <td>   28.658</td>\n",
              "</tr>\n",
              "<tr>\n",
              "  <th>Post Likes</th>                                             <td>    2.5928</td> <td>    1.092</td> <td>    2.374</td> <td> 0.018</td> <td>    0.452</td> <td>    4.734</td>\n",
              "</tr>\n",
              "<tr>\n",
              "  <th>Post Comments</th>                                          <td>    3.5434</td> <td>    1.136</td> <td>    3.118</td> <td> 0.002</td> <td>    1.316</td> <td>    5.771</td>\n",
              "</tr>\n",
              "<tr>\n",
              "  <th>Post Shares</th>                                            <td>    4.9447</td> <td>    1.109</td> <td>    4.460</td> <td> 0.000</td> <td>    2.771</td> <td>    7.118</td>\n",
              "</tr>\n",
              "<tr>\n",
              "  <th>Photo Views</th>                                            <td>    3.3358</td> <td>    1.091</td> <td>    3.058</td> <td> 0.002</td> <td>    1.197</td> <td>    5.474</td>\n",
              "</tr>\n",
              "<tr>\n",
              "  <th>Website Clicks</th>                                         <td>    3.5681</td> <td>    1.091</td> <td>    3.271</td> <td> 0.001</td> <td>    1.429</td> <td>    5.707</td>\n",
              "</tr>\n",
              "</table>\n",
              "<table class=\"simpletable\">\n",
              "<tr>\n",
              "  <th>Omnibus:</th>       <td>2484.434</td> <th>  Durbin-Watson:     </th>  <td>   1.922</td> \n",
              "</tr>\n",
              "<tr>\n",
              "  <th>Prob(Omnibus):</th>  <td> 0.000</td>  <th>  Jarque-Bera (JB):  </th> <td>251716.651</td>\n",
              "</tr>\n",
              "<tr>\n",
              "  <th>Skew:</th>           <td> 2.350</td>  <th>  Prob(JB):          </th>  <td>    0.00</td> \n",
              "</tr>\n",
              "<tr>\n",
              "  <th>Kurtosis:</th>       <td>43.106</td>  <th>  Cond. No.          </th>  <td>1.18e+18</td> \n",
              "</tr>\n",
              "</table><br/><br/>Warnings:<br/>[1] Standard Errors assume that the covariance matrix of the errors is correctly specified.<br/>[2] The smallest eigenvalue is 1.39e-24. This might indicate that there are<br/>strong multicollinearity problems or that the design matrix is singular."
            ],
            "text/plain": [
              "<class 'statsmodels.iolib.summary.Summary'>\n",
              "\"\"\"\n",
              "                                 OLS Regression Results                                \n",
              "=======================================================================================\n",
              "Dep. Variable:     Amount Spent (USD)   R-squared (uncentered):                   0.943\n",
              "Model:                            OLS   Adj. R-squared (uncentered):              0.943\n",
              "Method:                 Least Squares   F-statistic:                              3593.\n",
              "Date:                Wed, 20 Nov 2019   Prob (F-statistic):                        0.00\n",
              "Time:                        20:11:39   Log-Likelihood:                         -12193.\n",
              "No. Observations:                3705   AIC:                                  2.442e+04\n",
              "Df Residuals:                    3688   BIC:                                  2.453e+04\n",
              "Df Model:                          17                                                  \n",
              "Covariance Type:            nonrobust                                                  \n",
              "==========================================================================================================================\n",
              "                                                             coef    std err          t      P>|t|      [0.025      0.975]\n",
              "--------------------------------------------------------------------------------------------------------------------------\n",
              "Ad                                                        -2.4991      2.413     -1.036      0.300      -7.229       2.231\n",
              "Cyber Weekend                                           -189.1268     18.698    -10.115      0.000    -225.787    -152.467\n",
              "Nanigans                                                  -4.1903      0.803     -5.216      0.000      -5.765      -2.615\n",
              "Post: You need to get some real sun and we are here to   -14.2906      5.175     -2.761      0.006     -24.438      -4.144\n",
              "SimpleMultiFillCampaign                                   -2.2926      0.709     -3.235      0.001      -3.682      -0.903\n",
              "Reach                                                      0.0033      0.000     30.673      0.000       0.003       0.003\n",
              "Frequency                                                  1.8756      0.695      2.698      0.007       0.513       3.239\n",
              "Impressions                                               -0.0009   5.73e-05    -15.023      0.000      -0.001      -0.001\n",
              "Clicks                                                    -0.3369      0.078     -4.312      0.000      -0.490      -0.184\n",
              "Unique Clicks                                              0.4800      0.088      5.436      0.000       0.307       0.653\n",
              "Page Likes                                                24.4052      6.534      3.735      0.000      11.594      37.216\n",
              "Page Engagement                                          -21.1280      6.532     -3.235      0.001     -33.934      -8.322\n",
              "Post Engagement                                           17.9848      5.444      3.304      0.001       7.312      28.658\n",
              "Post Likes                                                 2.5928      1.092      2.374      0.018       0.452       4.734\n",
              "Post Comments                                              3.5434      1.136      3.118      0.002       1.316       5.771\n",
              "Post Shares                                                4.9447      1.109      4.460      0.000       2.771       7.118\n",
              "Photo Views                                                3.3358      1.091      3.058      0.002       1.197       5.474\n",
              "Website Clicks                                             3.5681      1.091      3.271      0.001       1.429       5.707\n",
              "==============================================================================\n",
              "Omnibus:                     2484.434   Durbin-Watson:                   1.922\n",
              "Prob(Omnibus):                  0.000   Jarque-Bera (JB):           251716.651\n",
              "Skew:                           2.350   Prob(JB):                         0.00\n",
              "Kurtosis:                      43.106   Cond. No.                     1.18e+18\n",
              "==============================================================================\n",
              "\n",
              "Warnings:\n",
              "[1] Standard Errors assume that the covariance matrix of the errors is correctly specified.\n",
              "[2] The smallest eigenvalue is 1.39e-24. This might indicate that there are\n",
              "strong multicollinearity problems or that the design matrix is singular.\n",
              "\"\"\""
            ]
          },
          "metadata": {
            "tags": []
          },
          "execution_count": 83
        }
      ]
    },
    {
      "cell_type": "markdown",
      "metadata": {
        "id": "iTmcW8mvcsY3",
        "colab_type": "text"
      },
      "source": [
        "From this regression, the three predictors with the highest predictive value are Page Likes(24.41), Post Engagement(17.98), and Post Shares(4.94). Therefore, when we spend more, we tend to get the most Page Likes first, then higher Post Engagement, and lastly, more Post Shares. \n"
      ]
    },
    {
      "cell_type": "code",
      "metadata": {
        "id": "a3k0fbTOd-vK",
        "colab_type": "code",
        "colab": {}
      },
      "source": [
        ""
      ],
      "execution_count": 0,
      "outputs": []
    }
  ]
}